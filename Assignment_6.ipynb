{
 "cells": [
  {
   "cell_type": "markdown",
   "metadata": {},
   "source": [
    "# Problem Statement 1:\n",
    "Write a function so that the columns of the output matrix are powers of the input vector.\n",
    "The order of the powers is determined by the increasing boolean argument. Specifically, when increasing is False, the i-th output column is the input vector raised element-wise to the power of N - i - 1.\n",
    "HINT: Such a matrix with a geometric progression in each row is named for Alexandre-Theophile Vandermonde."
   ]
  },
  {
   "cell_type": "code",
   "execution_count": 3,
   "metadata": {},
   "outputs": [
    {
     "name": "stdout",
     "output_type": "stream",
     "text": [
      "Please provide an input vector:1,2,4,6,8\n",
      "Input Vector is: [1, 2, 4, 6, 8]\n",
      "[[   1    1    1    1    1]\n",
      " [   1    2    4    8   16]\n",
      " [   1    4   16   64  256]\n",
      " [   1    6   36  216 1296]\n",
      " [   1    8   64  512 4096]]\n"
     ]
    }
   ],
   "source": [
    "import numpy as np\n",
    "\n",
    "def vandermonte_matrix(input_vector,increasing):\n",
    "    output_array=np.zeros((1,len(input_vector)))\n",
    "    input_array=np.array(input_vector)\n",
    "    \n",
    "    if increasing:\n",
    "        for i in range(len(input_vector)):\n",
    "            output_array=np.vstack((output_array,input_array**i))\n",
    "            \n",
    "    else:\n",
    "        for i in range(len(input_vector)-1,-1,-1):\n",
    "            output_array=np.vstack((output_array,input_array**i))\n",
    "    \n",
    "    output_vector = np.array(output_array[1:,:]).astype(int)\n",
    "    return output_vector.T\n",
    "    \n",
    "    \n",
    "input_vector=input(\"Please provide an input vector:\")\n",
    "input_list=list(map(lambda x:int(x),input_vector.split(\",\")))\n",
    "print(\"Input Vector is:\",input_list)\n",
    "print(vandermonte_matrix(input_list,True))"
   ]
  },
  {
   "cell_type": "markdown",
   "metadata": {},
   "source": [
    "# Problem Statement 2:\n",
    "Given a sequence of n values x1, x2, ..., xn and a window size k>0, the k-th moving average of the given sequence is defined as follows:\n",
    "The moving average sequence has n-k+1 elements as shown below.\n",
    "The moving averages with k=4 of a ten-value sequence (n=10) is shown below\n",
    "i 1 2 3 4 5 6 7 8 9 10\n",
    "===== == == == == == == == == == ==\n",
    "Input 10 20 30 40 50 60 70 80 90 100\n",
    "y1 25 = (10+20+30+40)/4\n",
    "y2 35 = (20+30+40+50)/4\n",
    "y3 45 = (30+40+50+60)/4\n",
    "y4 55 = (40+50+60+70)/4\n",
    "y5 65 = (50+60+70+80)/4\n",
    "y6 75 = (60+70+80+90)/4\n",
    "y7 85 = (70+80+90+100)/4\n",
    "Thus, the moving average sequence has n-k+1=10-4+1=7 values.\n",
    "Question: Write a function to find moving average in an array over a window:\n",
    "Test it over [3, 5, 7, 2, 8, 10, 11, 65, 72, 81, 99, 100, 150] and window of 3."
   ]
  },
  {
   "cell_type": "code",
   "execution_count": 1,
   "metadata": {},
   "outputs": [
    {
     "name": "stdout",
     "output_type": "stream",
     "text": [
      "Please enter a sequence of values:3, 5, 7, 2, 8, 10, 11, 65, 72, 81, 99, 100, 150\n",
      "Please enter a value for window size:3\n",
      "5.0\n",
      "4.666666666666667\n",
      "5.666666666666667\n",
      "6.666666666666667\n",
      "9.666666666666666\n",
      "28.666666666666668\n",
      "49.333333333333336\n",
      "72.66666666666667\n",
      "84.0\n",
      "93.33333333333333\n",
      "116.33333333333333\n"
     ]
    }
   ],
   "source": [
    "import numpy as np\n",
    "\n",
    "def moving_average(input_seq,window):\n",
    "    seq_list=list(map(lambda x:int(x),input_seq.split(\",\")))\n",
    "    seq_array=np.array(seq_list)\n",
    "    \n",
    "    num_op = np.size(seq_array)-window+1\n",
    "    for i in range(num_op):\n",
    "        print(np.sum(seq_array[i:i+window])/window)\n",
    "    \n",
    "input_seq = input(\"Please enter a sequence of values:\")\n",
    "window=int(input(\"Please enter a value for window size:\"))\n",
    "\n",
    "moving_average(input_seq,window)"
   ]
  }
 ],
 "metadata": {
  "kernelspec": {
   "display_name": "Python 3",
   "language": "python",
   "name": "python3"
  },
  "language_info": {
   "codemirror_mode": {
    "name": "ipython",
    "version": 3
   },
   "file_extension": ".py",
   "mimetype": "text/x-python",
   "name": "python",
   "nbconvert_exporter": "python",
   "pygments_lexer": "ipython3",
   "version": "3.7.4"
  }
 },
 "nbformat": 4,
 "nbformat_minor": 2
}
